{
  "nbformat": 4,
  "nbformat_minor": 0,
  "metadata": {
    "colab": {
      "provenance": []
    },
    "kernelspec": {
      "name": "python3",
      "display_name": "Python 3"
    },
    "language_info": {
      "name": "python"
    }
  },
  "cells": [
    {
      "cell_type": "code",
      "execution_count": 2,
      "metadata": {
        "id": "hDwysg3MwVJK"
      },
      "outputs": [],
      "source": [
        "import numpy as np\n",
        "import pandas as pd\n",
        "import matplotlib.pyplot as plt\n",
        "import yfinance as yf"
      ]
    },
    {
      "cell_type": "code",
      "source": [
        "tickers = ['RELIANCE.NS', 'TCS.NS', 'HDFCBANK.NS', 'INFY.NS', 'HINDUNILVR.NS']\n",
        "start_date = '2018-08-13'\n",
        "end_date = '2023-08-13'\n",
        "data = yf.download(tickers, start=start_date, end=end_date)['Adj Close']\n",
        "data.head()"
      ],
      "metadata": {
        "colab": {
          "base_uri": "https://localhost:8080/",
          "height": 255
        },
        "id": "CSZOpLbKy1zN",
        "outputId": "993e958d-d0bb-4bbc-8624-2d844db5de40"
      },
      "execution_count": 33,
      "outputs": [
        {
          "output_type": "stream",
          "name": "stderr",
          "text": [
            "[*********************100%%**********************]  5 of 5 completed\n"
          ]
        },
        {
          "output_type": "execute_result",
          "data": {
            "text/plain": [
              "Ticker      HDFCBANK.NS  HINDUNILVR.NS     INFY.NS  RELIANCE.NS       TCS.NS\n",
              "Date                                                                        \n",
              "2018-08-13   995.552368    1580.764038  606.066528  1064.120239  1765.560547\n",
              "2018-08-14   994.338806    1594.845093  605.873108  1084.637573  1768.561401\n",
              "2018-08-16   987.960754    1588.581909  615.015076  1075.857056  1772.930786\n",
              "2018-08-17   988.746155    1631.875977  615.359253  1078.500244  1776.682495\n",
              "2018-08-20   997.718018    1624.789673  595.526306  1106.409180  1774.210938"
            ],
            "text/html": [
              "\n",
              "  <div id=\"df-bb2d24bb-6157-40e9-a039-8eb3ef2a0494\" class=\"colab-df-container\">\n",
              "    <div>\n",
              "<style scoped>\n",
              "    .dataframe tbody tr th:only-of-type {\n",
              "        vertical-align: middle;\n",
              "    }\n",
              "\n",
              "    .dataframe tbody tr th {\n",
              "        vertical-align: top;\n",
              "    }\n",
              "\n",
              "    .dataframe thead th {\n",
              "        text-align: right;\n",
              "    }\n",
              "</style>\n",
              "<table border=\"1\" class=\"dataframe\">\n",
              "  <thead>\n",
              "    <tr style=\"text-align: right;\">\n",
              "      <th>Ticker</th>\n",
              "      <th>HDFCBANK.NS</th>\n",
              "      <th>HINDUNILVR.NS</th>\n",
              "      <th>INFY.NS</th>\n",
              "      <th>RELIANCE.NS</th>\n",
              "      <th>TCS.NS</th>\n",
              "    </tr>\n",
              "    <tr>\n",
              "      <th>Date</th>\n",
              "      <th></th>\n",
              "      <th></th>\n",
              "      <th></th>\n",
              "      <th></th>\n",
              "      <th></th>\n",
              "    </tr>\n",
              "  </thead>\n",
              "  <tbody>\n",
              "    <tr>\n",
              "      <th>2018-08-13</th>\n",
              "      <td>995.552368</td>\n",
              "      <td>1580.764038</td>\n",
              "      <td>606.066528</td>\n",
              "      <td>1064.120239</td>\n",
              "      <td>1765.560547</td>\n",
              "    </tr>\n",
              "    <tr>\n",
              "      <th>2018-08-14</th>\n",
              "      <td>994.338806</td>\n",
              "      <td>1594.845093</td>\n",
              "      <td>605.873108</td>\n",
              "      <td>1084.637573</td>\n",
              "      <td>1768.561401</td>\n",
              "    </tr>\n",
              "    <tr>\n",
              "      <th>2018-08-16</th>\n",
              "      <td>987.960754</td>\n",
              "      <td>1588.581909</td>\n",
              "      <td>615.015076</td>\n",
              "      <td>1075.857056</td>\n",
              "      <td>1772.930786</td>\n",
              "    </tr>\n",
              "    <tr>\n",
              "      <th>2018-08-17</th>\n",
              "      <td>988.746155</td>\n",
              "      <td>1631.875977</td>\n",
              "      <td>615.359253</td>\n",
              "      <td>1078.500244</td>\n",
              "      <td>1776.682495</td>\n",
              "    </tr>\n",
              "    <tr>\n",
              "      <th>2018-08-20</th>\n",
              "      <td>997.718018</td>\n",
              "      <td>1624.789673</td>\n",
              "      <td>595.526306</td>\n",
              "      <td>1106.409180</td>\n",
              "      <td>1774.210938</td>\n",
              "    </tr>\n",
              "  </tbody>\n",
              "</table>\n",
              "</div>\n",
              "    <div class=\"colab-df-buttons\">\n",
              "\n",
              "  <div class=\"colab-df-container\">\n",
              "    <button class=\"colab-df-convert\" onclick=\"convertToInteractive('df-bb2d24bb-6157-40e9-a039-8eb3ef2a0494')\"\n",
              "            title=\"Convert this dataframe to an interactive table.\"\n",
              "            style=\"display:none;\">\n",
              "\n",
              "  <svg xmlns=\"http://www.w3.org/2000/svg\" height=\"24px\" viewBox=\"0 -960 960 960\">\n",
              "    <path d=\"M120-120v-720h720v720H120Zm60-500h600v-160H180v160Zm220 220h160v-160H400v160Zm0 220h160v-160H400v160ZM180-400h160v-160H180v160Zm440 0h160v-160H620v160ZM180-180h160v-160H180v160Zm440 0h160v-160H620v160Z\"/>\n",
              "  </svg>\n",
              "    </button>\n",
              "\n",
              "  <style>\n",
              "    .colab-df-container {\n",
              "      display:flex;\n",
              "      gap: 12px;\n",
              "    }\n",
              "\n",
              "    .colab-df-convert {\n",
              "      background-color: #E8F0FE;\n",
              "      border: none;\n",
              "      border-radius: 50%;\n",
              "      cursor: pointer;\n",
              "      display: none;\n",
              "      fill: #1967D2;\n",
              "      height: 32px;\n",
              "      padding: 0 0 0 0;\n",
              "      width: 32px;\n",
              "    }\n",
              "\n",
              "    .colab-df-convert:hover {\n",
              "      background-color: #E2EBFA;\n",
              "      box-shadow: 0px 1px 2px rgba(60, 64, 67, 0.3), 0px 1px 3px 1px rgba(60, 64, 67, 0.15);\n",
              "      fill: #174EA6;\n",
              "    }\n",
              "\n",
              "    .colab-df-buttons div {\n",
              "      margin-bottom: 4px;\n",
              "    }\n",
              "\n",
              "    [theme=dark] .colab-df-convert {\n",
              "      background-color: #3B4455;\n",
              "      fill: #D2E3FC;\n",
              "    }\n",
              "\n",
              "    [theme=dark] .colab-df-convert:hover {\n",
              "      background-color: #434B5C;\n",
              "      box-shadow: 0px 1px 3px 1px rgba(0, 0, 0, 0.15);\n",
              "      filter: drop-shadow(0px 1px 2px rgba(0, 0, 0, 0.3));\n",
              "      fill: #FFFFFF;\n",
              "    }\n",
              "  </style>\n",
              "\n",
              "    <script>\n",
              "      const buttonEl =\n",
              "        document.querySelector('#df-bb2d24bb-6157-40e9-a039-8eb3ef2a0494 button.colab-df-convert');\n",
              "      buttonEl.style.display =\n",
              "        google.colab.kernel.accessAllowed ? 'block' : 'none';\n",
              "\n",
              "      async function convertToInteractive(key) {\n",
              "        const element = document.querySelector('#df-bb2d24bb-6157-40e9-a039-8eb3ef2a0494');\n",
              "        const dataTable =\n",
              "          await google.colab.kernel.invokeFunction('convertToInteractive',\n",
              "                                                    [key], {});\n",
              "        if (!dataTable) return;\n",
              "\n",
              "        const docLinkHtml = 'Like what you see? Visit the ' +\n",
              "          '<a target=\"_blank\" href=https://colab.research.google.com/notebooks/data_table.ipynb>data table notebook</a>'\n",
              "          + ' to learn more about interactive tables.';\n",
              "        element.innerHTML = '';\n",
              "        dataTable['output_type'] = 'display_data';\n",
              "        await google.colab.output.renderOutput(dataTable, element);\n",
              "        const docLink = document.createElement('div');\n",
              "        docLink.innerHTML = docLinkHtml;\n",
              "        element.appendChild(docLink);\n",
              "      }\n",
              "    </script>\n",
              "  </div>\n",
              "\n",
              "\n",
              "<div id=\"df-8793897a-00f4-4d8d-8dae-518c5cd1be3e\">\n",
              "  <button class=\"colab-df-quickchart\" onclick=\"quickchart('df-8793897a-00f4-4d8d-8dae-518c5cd1be3e')\"\n",
              "            title=\"Suggest charts\"\n",
              "            style=\"display:none;\">\n",
              "\n",
              "<svg xmlns=\"http://www.w3.org/2000/svg\" height=\"24px\"viewBox=\"0 0 24 24\"\n",
              "     width=\"24px\">\n",
              "    <g>\n",
              "        <path d=\"M19 3H5c-1.1 0-2 .9-2 2v14c0 1.1.9 2 2 2h14c1.1 0 2-.9 2-2V5c0-1.1-.9-2-2-2zM9 17H7v-7h2v7zm4 0h-2V7h2v10zm4 0h-2v-4h2v4z\"/>\n",
              "    </g>\n",
              "</svg>\n",
              "  </button>\n",
              "\n",
              "<style>\n",
              "  .colab-df-quickchart {\n",
              "      --bg-color: #E8F0FE;\n",
              "      --fill-color: #1967D2;\n",
              "      --hover-bg-color: #E2EBFA;\n",
              "      --hover-fill-color: #174EA6;\n",
              "      --disabled-fill-color: #AAA;\n",
              "      --disabled-bg-color: #DDD;\n",
              "  }\n",
              "\n",
              "  [theme=dark] .colab-df-quickchart {\n",
              "      --bg-color: #3B4455;\n",
              "      --fill-color: #D2E3FC;\n",
              "      --hover-bg-color: #434B5C;\n",
              "      --hover-fill-color: #FFFFFF;\n",
              "      --disabled-bg-color: #3B4455;\n",
              "      --disabled-fill-color: #666;\n",
              "  }\n",
              "\n",
              "  .colab-df-quickchart {\n",
              "    background-color: var(--bg-color);\n",
              "    border: none;\n",
              "    border-radius: 50%;\n",
              "    cursor: pointer;\n",
              "    display: none;\n",
              "    fill: var(--fill-color);\n",
              "    height: 32px;\n",
              "    padding: 0;\n",
              "    width: 32px;\n",
              "  }\n",
              "\n",
              "  .colab-df-quickchart:hover {\n",
              "    background-color: var(--hover-bg-color);\n",
              "    box-shadow: 0 1px 2px rgba(60, 64, 67, 0.3), 0 1px 3px 1px rgba(60, 64, 67, 0.15);\n",
              "    fill: var(--button-hover-fill-color);\n",
              "  }\n",
              "\n",
              "  .colab-df-quickchart-complete:disabled,\n",
              "  .colab-df-quickchart-complete:disabled:hover {\n",
              "    background-color: var(--disabled-bg-color);\n",
              "    fill: var(--disabled-fill-color);\n",
              "    box-shadow: none;\n",
              "  }\n",
              "\n",
              "  .colab-df-spinner {\n",
              "    border: 2px solid var(--fill-color);\n",
              "    border-color: transparent;\n",
              "    border-bottom-color: var(--fill-color);\n",
              "    animation:\n",
              "      spin 1s steps(1) infinite;\n",
              "  }\n",
              "\n",
              "  @keyframes spin {\n",
              "    0% {\n",
              "      border-color: transparent;\n",
              "      border-bottom-color: var(--fill-color);\n",
              "      border-left-color: var(--fill-color);\n",
              "    }\n",
              "    20% {\n",
              "      border-color: transparent;\n",
              "      border-left-color: var(--fill-color);\n",
              "      border-top-color: var(--fill-color);\n",
              "    }\n",
              "    30% {\n",
              "      border-color: transparent;\n",
              "      border-left-color: var(--fill-color);\n",
              "      border-top-color: var(--fill-color);\n",
              "      border-right-color: var(--fill-color);\n",
              "    }\n",
              "    40% {\n",
              "      border-color: transparent;\n",
              "      border-right-color: var(--fill-color);\n",
              "      border-top-color: var(--fill-color);\n",
              "    }\n",
              "    60% {\n",
              "      border-color: transparent;\n",
              "      border-right-color: var(--fill-color);\n",
              "    }\n",
              "    80% {\n",
              "      border-color: transparent;\n",
              "      border-right-color: var(--fill-color);\n",
              "      border-bottom-color: var(--fill-color);\n",
              "    }\n",
              "    90% {\n",
              "      border-color: transparent;\n",
              "      border-bottom-color: var(--fill-color);\n",
              "    }\n",
              "  }\n",
              "</style>\n",
              "\n",
              "  <script>\n",
              "    async function quickchart(key) {\n",
              "      const quickchartButtonEl =\n",
              "        document.querySelector('#' + key + ' button');\n",
              "      quickchartButtonEl.disabled = true;  // To prevent multiple clicks.\n",
              "      quickchartButtonEl.classList.add('colab-df-spinner');\n",
              "      try {\n",
              "        const charts = await google.colab.kernel.invokeFunction(\n",
              "            'suggestCharts', [key], {});\n",
              "      } catch (error) {\n",
              "        console.error('Error during call to suggestCharts:', error);\n",
              "      }\n",
              "      quickchartButtonEl.classList.remove('colab-df-spinner');\n",
              "      quickchartButtonEl.classList.add('colab-df-quickchart-complete');\n",
              "    }\n",
              "    (() => {\n",
              "      let quickchartButtonEl =\n",
              "        document.querySelector('#df-8793897a-00f4-4d8d-8dae-518c5cd1be3e button');\n",
              "      quickchartButtonEl.style.display =\n",
              "        google.colab.kernel.accessAllowed ? 'block' : 'none';\n",
              "    })();\n",
              "  </script>\n",
              "</div>\n",
              "\n",
              "    </div>\n",
              "  </div>\n"
            ],
            "application/vnd.google.colaboratory.intrinsic+json": {
              "type": "dataframe",
              "variable_name": "data",
              "summary": "{\n  \"name\": \"data\",\n  \"rows\": 1234,\n  \"fields\": [\n    {\n      \"column\": \"Date\",\n      \"properties\": {\n        \"dtype\": \"date\",\n        \"min\": \"2018-08-13 00:00:00\",\n        \"max\": \"2023-08-11 00:00:00\",\n        \"num_unique_values\": 1234,\n        \"samples\": [\n          \"2021-09-06 00:00:00\",\n          \"2020-12-28 00:00:00\",\n          \"2020-11-06 00:00:00\"\n        ],\n        \"semantic_type\": \"\",\n        \"description\": \"\"\n      }\n    },\n    {\n      \"column\": \"HDFCBANK.NS\",\n      \"properties\": {\n        \"dtype\": \"number\",\n        \"std\": 229.7173279403919,\n        \"min\": 736.9755859375,\n        \"max\": 1704.9185791015625,\n        \"num_unique_values\": 1212,\n        \"samples\": [\n          1470.9781494140625,\n          1439.8238525390625,\n          936.580322265625\n        ],\n        \"semantic_type\": \"\",\n        \"description\": \"\"\n      }\n    },\n    {\n      \"column\": \"HINDUNILVR.NS\",\n      \"properties\": {\n        \"dtype\": \"number\",\n        \"std\": 341.8433821359864,\n        \"min\": 1382.89990234375,\n        \"max\": 2710.617431640625,\n        \"num_unique_values\": 1221,\n        \"samples\": [\n          1963.1761474609375,\n          1698.713134765625,\n          1443.200927734375\n        ],\n        \"semantic_type\": \"\",\n        \"description\": \"\"\n      }\n    },\n    {\n      \"column\": \"INFY.NS\",\n      \"properties\": {\n        \"dtype\": \"number\",\n        \"std\": 402.9823550551063,\n        \"min\": 477.78369140625,\n        \"max\": 1838.948974609375,\n        \"num_unique_values\": 1212,\n        \"samples\": [\n          1661.311767578125,\n          1373.83935546875,\n          588.1480712890625\n        ],\n        \"semantic_type\": \"\",\n        \"description\": \"\"\n      }\n    },\n    {\n      \"column\": \"RELIANCE.NS\",\n      \"properties\": {\n        \"dtype\": \"number\",\n        \"std\": 508.01736332235157,\n        \"min\": 796.8193359375,\n        \"max\": 2613.79345703125,\n        \"num_unique_values\": 1215,\n        \"samples\": [\n          2081.273193359375,\n          2363.222900390625,\n          986.7100830078125\n        ],\n        \"semantic_type\": \"\",\n        \"description\": \"\"\n      }\n    },\n    {\n      \"column\": \"TCS.NS\",\n      \"properties\": {\n        \"dtype\": \"number\",\n        \"std\": 663.2514410087136,\n        \"min\": 1509.291259765625,\n        \"max\": 3783.12646484375,\n        \"num_unique_values\": 1226,\n        \"samples\": [\n          3070.333984375,\n          3011.76123046875,\n          3132.175048828125\n        ],\n        \"semantic_type\": \"\",\n        \"description\": \"\"\n      }\n    }\n  ]\n}"
            }
          },
          "metadata": {},
          "execution_count": 33
        }
      ]
    },
    {
      "cell_type": "code",
      "source": [
        "log_returns = np.log(data / data.shift(1))\n",
        "log_returns = log_returns.dropna()\n",
        "print(log_returns.head())"
      ],
      "metadata": {
        "colab": {
          "base_uri": "https://localhost:8080/"
        },
        "id": "ceiuFgkF9u0z",
        "outputId": "f82cea69-3b5a-4f38-a2c4-b0be0036d150"
      },
      "execution_count": 14,
      "outputs": [
        {
          "output_type": "stream",
          "name": "stdout",
          "text": [
            "Ticker      HDFCBANK.NS  HINDUNILVR.NS   INFY.NS  RELIANCE.NS    TCS.NS\n",
            "Date                                                                   \n",
            "2018-08-14    -0.001220       0.008868 -0.000319     0.019098  0.001698\n",
            "2018-08-16    -0.006435      -0.003935  0.014976    -0.008128  0.002468\n",
            "2018-08-17     0.000795       0.026889  0.000559     0.002454  0.002114\n",
            "2018-08-20     0.009033      -0.004352 -0.032761     0.025548 -0.001392\n",
            "2018-08-21    -0.000071      -0.013883 -0.000217     0.009911  0.003824\n"
          ]
        }
      ]
    },
    {
      "cell_type": "code",
      "source": [
        "def expected_returns(weights, log_returns):\n",
        "  return np.sum(log_returns.mean()*weights)"
      ],
      "metadata": {
        "id": "9f5shVf-9uob"
      },
      "execution_count": 20,
      "outputs": []
    },
    {
      "cell_type": "code",
      "source": [
        "def standard_deviation(weights, cov_matrix):\n",
        "  variance = weights.T @ cov_matrix @weights\n",
        "  return np.sqrt(variance)\n"
      ],
      "metadata": {
        "id": "UcKNgIP6_QDM"
      },
      "execution_count": 16,
      "outputs": []
    },
    {
      "cell_type": "code",
      "source": [
        "cov_matrix = log_returns.cov()\n",
        "print(cov_matrix)"
      ],
      "metadata": {
        "colab": {
          "base_uri": "https://localhost:8080/"
        },
        "id": "7YoWK8-G__mR",
        "outputId": "4aec835e-62f7-4ca7-a122-d0fa0e828f2b"
      },
      "execution_count": 18,
      "outputs": [
        {
          "output_type": "stream",
          "name": "stdout",
          "text": [
            "Ticker         HDFCBANK.NS  HINDUNILVR.NS   INFY.NS  RELIANCE.NS    TCS.NS\n",
            "Ticker                                                                    \n",
            "HDFCBANK.NS       0.000289       0.000077  0.000105     0.000142  0.000081\n",
            "HINDUNILVR.NS     0.000077       0.000233  0.000082     0.000096  0.000073\n",
            "INFY.NS           0.000105       0.000082  0.000342     0.000116  0.000189\n",
            "RELIANCE.NS       0.000142       0.000096  0.000116     0.000390  0.000112\n",
            "TCS.NS            0.000081       0.000073  0.000189     0.000112  0.000257\n"
          ]
        }
      ]
    },
    {
      "cell_type": "code",
      "source": [
        "portfolio_value = 1000000\n",
        "weights = np.array([1/len(tickers)]*len(tickers))\n",
        "portfolio_expected_returns = expected_returns(weights, log_returns)\n",
        "portfolio_standard_deviation = standard_deviation(weights, cov_matrix)\n"
      ],
      "metadata": {
        "id": "AQ9q6m-L1Rhe"
      },
      "execution_count": 23,
      "outputs": []
    },
    {
      "cell_type": "code",
      "source": [
        "def random_z_score():\n",
        "  return np.random.normal(0,1)"
      ],
      "metadata": {
        "id": "YLgeHMhsBm2X"
      },
      "execution_count": 22,
      "outputs": []
    },
    {
      "cell_type": "code",
      "source": [
        "days = 5\n",
        "def scenario_gain_loss(portfolio_value, portfolio_standard_deviation, z_score, days):\n",
        "  return portfolio_value*portfolio_expected_returns*days + portfolio_value*portfolio_standard_deviation*z_score*np.sqrt(days)"
      ],
      "metadata": {
        "id": "bjsoXwahByus"
      },
      "execution_count": 24,
      "outputs": []
    },
    {
      "cell_type": "code",
      "source": [
        "simulations = 10000\n",
        "scenarioReturn = []\n",
        "simulation_horizon = 1\n",
        "\n",
        "for i in range(simulations):\n",
        "  z_score = random_z_score()\n",
        "  scenarioReturn.append(scenario_gain_loss(portfolio_value, portfolio_standard_deviation, z_score, days))"
      ],
      "metadata": {
        "id": "tn0BU8EJ1YCF"
      },
      "execution_count": 27,
      "outputs": []
    },
    {
      "cell_type": "code",
      "source": [
        "confidence_interval = 0.95\n",
        "VaR = - np.percentile(scenarioReturn, 100*(1 - confidence_interval))\n",
        "print(VaR)"
      ],
      "metadata": {
        "colab": {
          "base_uri": "https://localhost:8080/"
        },
        "id": "WdekNBzpDeNx",
        "outputId": "3694fc6e-9971-46cf-98e0-af5b478c14af"
      },
      "execution_count": 31,
      "outputs": [
        {
          "output_type": "stream",
          "name": "stdout",
          "text": [
            "42610.0842547745\n"
          ]
        }
      ]
    },
    {
      "cell_type": "code",
      "source": [
        "plt.hist(scenarioReturn, bins=50, density=True)\n",
        "plt.xlabel('Scenario Gain/Loss ($)')\n",
        "plt.ylabel('Frequency')\n",
        "plt.title(f'Distribution of Portfolio Gain/Loss Over {days} Days')\n",
        "plt.axvline(-VaR, color='r', linestyle='dashed', linewidth=2, label=f'VaR at {confidence_interval:.0%} confidence level')\n",
        "plt.legend()\n",
        "plt.show()"
      ],
      "metadata": {
        "colab": {
          "base_uri": "https://localhost:8080/",
          "height": 472
        },
        "id": "7xN8m5XL12qE",
        "outputId": "6430186f-88a7-449e-fc7c-bae67987fceb"
      },
      "execution_count": 32,
      "outputs": [
        {
          "output_type": "display_data",
          "data": {
            "text/plain": [
              "<Figure size 640x480 with 1 Axes>"
            ],
            "image/png": "[encoded data removed]"
          },
          "metadata": {}
        }
      ]
    }
  ]
}